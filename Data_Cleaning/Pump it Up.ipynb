{
 "cells": [
  {
   "cell_type": "code",
   "execution_count": 27,
   "id": "4f118552",
   "metadata": {},
   "outputs": [],
   "source": [
    "import matplotlib.pyplot as plt\n",
    "import numpy as np\n",
    "import pandas as pd\n",
    "import random\n",
    "import seaborn as sns\n",
    "import scipy\n",
    "from scipy.stats import pearsonr\n",
    "import sklearn"
   ]
  },
  {
   "cell_type": "code",
   "execution_count": 28,
   "id": "47e71472",
   "metadata": {},
   "outputs": [],
   "source": [
    "all_df=pd.read_csv('/Users/yangyufeng/Downloads/DSML_CW2.csv')"
   ]
  },
  {
   "cell_type": "code",
   "execution_count": 30,
   "id": "192f2ca1",
   "metadata": {},
   "outputs": [
    {
     "data": {
      "text/html": [
       "<div>\n",
       "<style scoped>\n",
       "    .dataframe tbody tr th:only-of-type {\n",
       "        vertical-align: middle;\n",
       "    }\n",
       "\n",
       "    .dataframe tbody tr th {\n",
       "        vertical-align: top;\n",
       "    }\n",
       "\n",
       "    .dataframe thead th {\n",
       "        text-align: right;\n",
       "    }\n",
       "</style>\n",
       "<table border=\"1\" class=\"dataframe\">\n",
       "  <thead>\n",
       "    <tr style=\"text-align: right;\">\n",
       "      <th></th>\n",
       "      <th>id</th>\n",
       "      <th>status_group</th>\n",
       "    </tr>\n",
       "  </thead>\n",
       "  <tbody>\n",
       "    <tr>\n",
       "      <th>0</th>\n",
       "      <td>69572</td>\n",
       "      <td>functional</td>\n",
       "    </tr>\n",
       "    <tr>\n",
       "      <th>1</th>\n",
       "      <td>8776</td>\n",
       "      <td>functional</td>\n",
       "    </tr>\n",
       "    <tr>\n",
       "      <th>2</th>\n",
       "      <td>34310</td>\n",
       "      <td>functional</td>\n",
       "    </tr>\n",
       "    <tr>\n",
       "      <th>3</th>\n",
       "      <td>67743</td>\n",
       "      <td>non functional</td>\n",
       "    </tr>\n",
       "    <tr>\n",
       "      <th>4</th>\n",
       "      <td>19728</td>\n",
       "      <td>functional</td>\n",
       "    </tr>\n",
       "    <tr>\n",
       "      <th>...</th>\n",
       "      <td>...</td>\n",
       "      <td>...</td>\n",
       "    </tr>\n",
       "    <tr>\n",
       "      <th>59395</th>\n",
       "      <td>60739</td>\n",
       "      <td>functional</td>\n",
       "    </tr>\n",
       "    <tr>\n",
       "      <th>59396</th>\n",
       "      <td>27263</td>\n",
       "      <td>functional</td>\n",
       "    </tr>\n",
       "    <tr>\n",
       "      <th>59397</th>\n",
       "      <td>37057</td>\n",
       "      <td>functional</td>\n",
       "    </tr>\n",
       "    <tr>\n",
       "      <th>59398</th>\n",
       "      <td>31282</td>\n",
       "      <td>functional</td>\n",
       "    </tr>\n",
       "    <tr>\n",
       "      <th>59399</th>\n",
       "      <td>26348</td>\n",
       "      <td>functional</td>\n",
       "    </tr>\n",
       "  </tbody>\n",
       "</table>\n",
       "<p>59400 rows × 2 columns</p>\n",
       "</div>"
      ],
      "text/plain": [
       "          id    status_group\n",
       "0      69572      functional\n",
       "1       8776      functional\n",
       "2      34310      functional\n",
       "3      67743  non functional\n",
       "4      19728      functional\n",
       "...      ...             ...\n",
       "59395  60739      functional\n",
       "59396  27263      functional\n",
       "59397  37057      functional\n",
       "59398  31282      functional\n",
       "59399  26348      functional\n",
       "\n",
       "[59400 rows x 2 columns]"
      ]
     },
     "execution_count": 30,
     "metadata": {},
     "output_type": "execute_result"
    }
   ],
   "source": [
    "all_df_label = pd.read_csv('/Users/yangyufeng/Downloads/DSML_Labels.csv')\n",
    "all_df_label"
   ]
  },
  {
   "cell_type": "code",
   "execution_count": 31,
   "id": "fb7d196a",
   "metadata": {},
   "outputs": [
    {
     "data": {
      "image/png": "[encoded data removed]",
      "text/plain": [
       "<Figure size 432x288 with 1 Axes>"
      ]
     },
     "metadata": {
      "needs_background": "light"
     },
     "output_type": "display_data"
    }
   ],
   "source": [
    "a = 'status_group'\n",
    "all_df_label[a].value_counts().plot(kind='bar')\n",
    "plt.show()"
   ]
  },
  {
   "cell_type": "code",
   "execution_count": 32,
   "id": "0b5b63c5",
   "metadata": {},
   "outputs": [
    {
     "name": "stdout",
     "output_type": "stream",
     "text": [
      "31587\n"
     ]
    }
   ],
   "source": [
    "rows_with_missing_values = all_df[all_df.isnull().any(axis=1)]\n",
    "\n",
    "# 获取id\n",
    "ids_with_missing_values = rows_with_missing_values.iloc[:, 0]\n",
    "\n",
    "# 有几个，看起来近一半数据行有缺失值。。\n",
    "print(len(list(ids_with_missing_values)))"
   ]
  },
  {
   "cell_type": "code",
   "execution_count": 33,
   "id": "5d6ce55a",
   "metadata": {},
   "outputs": [
    {
     "name": "stdout",
     "output_type": "stream",
     "text": [
      "id                           0\n",
      "amount_tsh                   0\n",
      "date_recorded                0\n",
      "funder                    3635\n",
      "gps_height                   0\n",
      "installer                 3655\n",
      "longitude                    0\n",
      "latitude                     0\n",
      "wpt_name                     0\n",
      "num_private                  0\n",
      "basin                        0\n",
      "subvillage                 371\n",
      "region                       0\n",
      "region_code                  0\n",
      "district_code                0\n",
      "lga                          0\n",
      "ward                         0\n",
      "population                   0\n",
      "public_meeting            3334\n",
      "recorded_by                  0\n",
      "scheme_management         3877\n",
      "scheme_name              28166\n",
      "permit                    3056\n",
      "construction_year            0\n",
      "extraction_type              0\n",
      "extraction_type_group        0\n",
      "extraction_type_class        0\n",
      "management                   0\n",
      "management_group             0\n",
      "payment                      0\n",
      "payment_type                 0\n",
      "water_quality                0\n",
      "quality_group                0\n",
      "quantity                     0\n",
      "quantity_group               0\n",
      "source                       0\n",
      "source_type                  0\n",
      "source_class                 0\n",
      "waterpoint_type              0\n",
      "waterpoint_type_group        0\n",
      "dtype: int64\n"
     ]
    }
   ],
   "source": [
    "missing_values_per_column = all_df.isnull().sum()\n",
    "\n",
    "print(missing_values_per_column)\n",
    "\n",
    "# 主要的缺失值在于供水商的名字。。这显然不重要"
   ]
  },
  {
   "cell_type": "code",
   "execution_count": 40,
   "id": "7bcc5b0f",
   "metadata": {},
   "outputs": [
    {
     "name": "stdout",
     "output_type": "stream",
     "text": [
      "id                          0\n",
      "amount_tsh                  0\n",
      "date_recorded               0\n",
      "funder                   3635\n",
      "gps_height                  0\n",
      "installer                3655\n",
      "longitude                   0\n",
      "latitude                    0\n",
      "wpt_name                    0\n",
      "num_private                 0\n",
      "basin                       0\n",
      "subvillage                371\n",
      "region                      0\n",
      "region_code                 0\n",
      "district_code               0\n",
      "lga                         0\n",
      "ward                        0\n",
      "population                  0\n",
      "public_meeting           3334\n",
      "recorded_by                 0\n",
      "scheme_management        3877\n",
      "permit                   3056\n",
      "construction_year           0\n",
      "extraction_type             0\n",
      "extraction_type_group       0\n",
      "extraction_type_class       0\n",
      "management                  0\n",
      "management_group            0\n",
      "payment                     0\n",
      "payment_type                0\n",
      "water_quality               0\n",
      "quality_group               0\n",
      "quantity                    0\n",
      "quantity_group              0\n",
      "source                      0\n",
      "source_type                 0\n",
      "source_class                0\n",
      "waterpoint_type             0\n",
      "waterpoint_type_group       0\n",
      "dtype: int64\n"
     ]
    }
   ],
   "source": [
    "# 删除'scheme_name'列\n",
    "all_df_dropped0 = all_df.drop(columns=['scheme_name'])\n",
    "missing_values_per_column = all_df_dropped0.isnull().sum()\n",
    "\n",
    "print(missing_values_per_column)"
   ]
  },
  {
   "cell_type": "markdown",
   "id": "955f314e",
   "metadata": {},
   "source": [
    "### 接着来处理剩下的null值\n",
    "1. funder "
   ]
  },
  {
   "cell_type": "code",
   "execution_count": 44,
   "id": "eae9f72c",
   "metadata": {},
   "outputs": [
    {
     "data": {
      "text/plain": [
       "3635"
      ]
     },
     "execution_count": 44,
     "metadata": {},
     "output_type": "execute_result"
    }
   ],
   "source": [
    "all_df_dropped0['funder'].value_counts()"
   ]
  },
  {
   "cell_type": "markdown",
   "id": "e6b5b0d8",
   "metadata": {},
   "source": [
    "#### 本次数据集的所有缺失值，似乎都是关于供水商的？\n"
   ]
  },
  {
   "cell_type": "code",
   "execution_count": null,
   "id": "e4dff85e",
   "metadata": {},
   "outputs": [],
   "source": [
    "value_counts()"
   ]
  },
  {
   "cell_type": "code",
   "execution_count": 10,
   "id": "eabacc92",
   "metadata": {},
   "outputs": [
    {
     "name": "stdout",
     "output_type": "stream",
     "text": [
      "id                       59400\n",
      "amount_tsh                  98\n",
      "date_recorded              356\n",
      "funder                    1897\n",
      "gps_height                2428\n",
      "installer                 2145\n",
      "longitude                57516\n",
      "latitude                 57517\n",
      "wpt_name                 37400\n",
      "num_private                 65\n",
      "basin                        9\n",
      "subvillage               19287\n",
      "region                      21\n",
      "region_code                 27\n",
      "district_code               20\n",
      "lga                        125\n",
      "ward                      2092\n",
      "population                1049\n",
      "public_meeting               2\n",
      "recorded_by                  1\n",
      "scheme_management           12\n",
      "scheme_name               2696\n",
      "permit                       2\n",
      "construction_year           55\n",
      "extraction_type             18\n",
      "extraction_type_group       13\n",
      "extraction_type_class        7\n",
      "management                  12\n",
      "management_group             5\n",
      "payment                      7\n",
      "payment_type                 7\n",
      "water_quality                8\n",
      "quality_group                6\n",
      "quantity                     5\n",
      "quantity_group               5\n",
      "source                      10\n",
      "source_type                  7\n",
      "source_class                 3\n",
      "waterpoint_type              7\n",
      "waterpoint_type_group        6\n",
      "dtype: int64\n"
     ]
    }
   ],
   "source": [
    "print(all_df.nunique())"
   ]
  },
  {
   "cell_type": "code",
   "execution_count": 11,
   "id": "9331fa7f",
   "metadata": {},
   "outputs": [
    {
     "name": "stdout",
     "output_type": "stream",
     "text": [
      "                 id     amount_tsh    gps_height     longitude      latitude  \\\n",
      "count  59400.000000   59400.000000  59400.000000  59400.000000  5.940000e+04   \n",
      "mean   37115.131768     317.650385    668.297239     34.077427 -5.706033e+00   \n",
      "std    21453.128371    2997.574558    693.116350      6.567432  2.946019e+00   \n",
      "min        0.000000       0.000000    -90.000000      0.000000 -1.164944e+01   \n",
      "25%    18519.750000       0.000000      0.000000     33.090347 -8.540621e+00   \n",
      "50%    37061.500000       0.000000    369.000000     34.908743 -5.021597e+00   \n",
      "75%    55656.500000      20.000000   1319.250000     37.178387 -3.326156e+00   \n",
      "max    74247.000000  350000.000000   2770.000000     40.345193 -2.000000e-08   \n",
      "\n",
      "        num_private   region_code  district_code    population  \\\n",
      "count  59400.000000  59400.000000   59400.000000  59400.000000   \n",
      "mean       0.474141     15.297003       5.629747    179.909983   \n",
      "std       12.236230     17.587406       9.633649    471.482176   \n",
      "min        0.000000      1.000000       0.000000      0.000000   \n",
      "25%        0.000000      5.000000       2.000000      0.000000   \n",
      "50%        0.000000     12.000000       3.000000     25.000000   \n",
      "75%        0.000000     17.000000       5.000000    215.000000   \n",
      "max     1776.000000     99.000000      80.000000  30500.000000   \n",
      "\n",
      "       construction_year  \n",
      "count       59400.000000  \n",
      "mean         1300.652475  \n",
      "std           951.620547  \n",
      "min             0.000000  \n",
      "25%             0.000000  \n",
      "50%          1986.000000  \n",
      "75%          2004.000000  \n",
      "max          2013.000000  \n"
     ]
    }
   ],
   "source": [
    "print(all_df.describe())\n",
    "# 0有些多，0可能是无意义的值"
   ]
  },
  {
   "cell_type": "code",
   "execution_count": 12,
   "id": "17342065",
   "metadata": {},
   "outputs": [
    {
     "name": "stdout",
     "output_type": "stream",
     "text": [
      "0值的比例\n",
      "id                       0.000017\n",
      "amount_tsh               0.700993\n",
      "date_recorded            0.000000\n",
      "funder                   0.000000\n",
      "gps_height               0.344074\n",
      "installer                0.000000\n",
      "longitude                0.030505\n",
      "latitude                 0.000000\n",
      "wpt_name                 0.000000\n",
      "num_private              0.987256\n",
      "basin                    0.000000\n",
      "subvillage               0.000000\n",
      "region                   0.000000\n",
      "region_code              0.000000\n",
      "district_code            0.000387\n",
      "lga                      0.000000\n",
      "ward                     0.000000\n",
      "population               0.359949\n",
      "public_meeting           0.090162\n",
      "recorded_by              0.000000\n",
      "scheme_management        0.000000\n",
      "scheme_name              0.000000\n",
      "permit                   0.310450\n",
      "construction_year        0.348636\n",
      "extraction_type          0.000000\n",
      "extraction_type_group    0.000000\n",
      "extraction_type_class    0.000000\n",
      "management               0.000000\n",
      "management_group         0.000000\n",
      "payment                  0.000000\n",
      "payment_type             0.000000\n",
      "water_quality            0.000000\n",
      "quality_group            0.000000\n",
      "quantity                 0.000000\n",
      "quantity_group           0.000000\n",
      "source                   0.000000\n",
      "source_type              0.000000\n",
      "source_class             0.000000\n",
      "waterpoint_type          0.000000\n",
      "waterpoint_type_group    0.000000\n",
      "dtype: float64\n"
     ]
    }
   ],
   "source": [
    "zero_counts = (all_df == 0).sum()\n",
    "non_null_counts = all_df.count() \n",
    "zero_proportions = zero_counts / non_null_counts\n",
    "\n",
    "# 结果\n",
    "print(\"0值的比例\")\n",
    "print(zero_proportions)"
   ]
  },
  {
   "cell_type": "markdown",
   "id": "9f511ed4",
   "metadata": {},
   "source": [
    "# 总结 ---------------\n",
    "建议删除‘amount_tsh’和‘num_private’ 由于过高的0比例    \n",
    "以及删除‘scheme_name’ 由于过半的缺失"
   ]
  },
  {
   "cell_type": "code",
   "execution_count": 13,
   "id": "66f18cfe",
   "metadata": {},
   "outputs": [],
   "source": [
    "all_df_dropped = all_df.drop(columns=['scheme_name', 'amount_tsh','num_private'])"
   ]
  },
  {
   "cell_type": "code",
   "execution_count": 14,
   "id": "8a3aa627",
   "metadata": {},
   "outputs": [
    {
     "name": "stdout",
     "output_type": "stream",
     "text": [
      "<class 'pandas.core.frame.DataFrame'>\n",
      "RangeIndex: 59400 entries, 0 to 59399\n",
      "Data columns (total 37 columns):\n",
      " #   Column                 Non-Null Count  Dtype  \n",
      "---  ------                 --------------  -----  \n",
      " 0   id                     59400 non-null  int64  \n",
      " 1   date_recorded          59400 non-null  object \n",
      " 2   funder                 55765 non-null  object \n",
      " 3   gps_height             59400 non-null  int64  \n",
      " 4   installer              55745 non-null  object \n",
      " 5   longitude              59400 non-null  float64\n",
      " 6   latitude               59400 non-null  float64\n",
      " 7   wpt_name               59400 non-null  object \n",
      " 8   basin                  59400 non-null  object \n",
      " 9   subvillage             59029 non-null  object \n",
      " 10  region                 59400 non-null  object \n",
      " 11  region_code            59400 non-null  int64  \n",
      " 12  district_code          59400 non-null  int64  \n",
      " 13  lga                    59400 non-null  object \n",
      " 14  ward                   59400 non-null  object \n",
      " 15  population             59400 non-null  int64  \n",
      " 16  public_meeting         56066 non-null  object \n",
      " 17  recorded_by            59400 non-null  object \n",
      " 18  scheme_management      55523 non-null  object \n",
      " 19  permit                 56344 non-null  object \n",
      " 20  construction_year      59400 non-null  int64  \n",
      " 21  extraction_type        59400 non-null  object \n",
      " 22  extraction_type_group  59400 non-null  object \n",
      " 23  extraction_type_class  59400 non-null  object \n",
      " 24  management             59400 non-null  object \n",
      " 25  management_group       59400 non-null  object \n",
      " 26  payment                59400 non-null  object \n",
      " 27  payment_type           59400 non-null  object \n",
      " 28  water_quality          59400 non-null  object \n",
      " 29  quality_group          59400 non-null  object \n",
      " 30  quantity               59400 non-null  object \n",
      " 31  quantity_group         59400 non-null  object \n",
      " 32  source                 59400 non-null  object \n",
      " 33  source_type            59400 non-null  object \n",
      " 34  source_class           59400 non-null  object \n",
      " 35  waterpoint_type        59400 non-null  object \n",
      " 36  waterpoint_type_group  59400 non-null  object \n",
      "dtypes: float64(2), int64(6), object(29)\n",
      "memory usage: 16.8+ MB\n"
     ]
    }
   ],
   "source": [
    "all_df_dropped.info()"
   ]
  },
  {
   "cell_type": "code",
   "execution_count": 23,
   "id": "5bc34c1d",
   "metadata": {},
   "outputs": [
    {
     "data": {
      "text/plain": [
       "(11112, 37)"
      ]
     },
     "execution_count": 23,
     "metadata": {},
     "output_type": "execute_result"
    }
   ],
   "source": [
    "# 首先解决的是\n",
    "all_df_dropped.loc[all_df_dropped.isna().any(axis=1)].shape"
   ]
  },
  {
   "cell_type": "code",
   "execution_count": 15,
   "id": "1a9e0af4",
   "metadata": {
    "scrolled": true
   },
   "outputs": [
    {
     "name": "stdout",
     "output_type": "stream",
     "text": [
      "0值的比例\n",
      "id                       0.000017\n",
      "date_recorded            0.000000\n",
      "funder                   0.000000\n",
      "gps_height               0.344074\n",
      "installer                0.000000\n",
      "longitude                0.030505\n",
      "latitude                 0.000000\n",
      "wpt_name                 0.000000\n",
      "basin                    0.000000\n",
      "subvillage               0.000000\n",
      "region                   0.000000\n",
      "region_code              0.000000\n",
      "district_code            0.000387\n",
      "lga                      0.000000\n",
      "ward                     0.000000\n",
      "population               0.359949\n",
      "public_meeting           0.090162\n",
      "recorded_by              0.000000\n",
      "scheme_management        0.000000\n",
      "permit                   0.310450\n",
      "construction_year        0.348636\n",
      "extraction_type          0.000000\n",
      "extraction_type_group    0.000000\n",
      "extraction_type_class    0.000000\n",
      "management               0.000000\n",
      "management_group         0.000000\n",
      "payment                  0.000000\n",
      "payment_type             0.000000\n",
      "water_quality            0.000000\n",
      "quality_group            0.000000\n",
      "quantity                 0.000000\n",
      "quantity_group           0.000000\n",
      "source                   0.000000\n",
      "source_type              0.000000\n",
      "source_class             0.000000\n",
      "waterpoint_type          0.000000\n",
      "waterpoint_type_group    0.000000\n",
      "dtype: float64\n"
     ]
    }
   ],
   "source": [
    "all_df = all_df_dropped\n",
    "zero_counts = (all_df == 0).sum()\n",
    "non_null_counts = all_df.count() \n",
    "zero_proportions = zero_counts / non_null_counts\n",
    "\n",
    "# 结果\n",
    "print(\"0值的比例\")\n",
    "print(zero_proportions)"
   ]
  },
  {
   "cell_type": "code",
   "execution_count": null,
   "id": "43b83553",
   "metadata": {},
   "outputs": [],
   "source": []
  },
  {
   "cell_type": "code",
   "execution_count": 32,
   "id": "f928044b",
   "metadata": {},
   "outputs": [
    {
     "data": {
      "text/plain": [
       "1996.8146855851587"
      ]
     },
     "execution_count": 32,
     "metadata": {},
     "output_type": "execute_result"
    }
   ],
   "source": [
    "# construction_year        0.348636 显然年份不应该有0存在\n",
    "non_zero_non_null_avg = all_df['construction_year'][all_df['construction_year'] > 0].mean()\n",
    "\n",
    "# 替换0值和NaN值为计算得到的平均值\n",
    "all_df['construction_year'] = all_df['construction_year'].replace(0, non_zero_non_null_avg)\n",
    "all_df['construction_year'] = all_df['construction_year'].fillna(non_zero_non_null_avg)\n"
   ]
  },
  {
   "cell_type": "code",
   "execution_count": null,
   "id": "cb8efd6a",
   "metadata": {},
   "outputs": [],
   "source": []
  }
 ],
 "metadata": {
  "kernelspec": {
   "display_name": "Python 3 (ipykernel)",
   "language": "python",
   "name": "python3"
  },
  "language_info": {
   "codemirror_mode": {
    "name": "ipython",
    "version": 3
   },
   "file_extension": ".py",
   "mimetype": "text/x-python",
   "name": "python",
   "nbconvert_exporter": "python",
   "pygments_lexer": "ipython3",
   "version": "3.9.12"
  }
 },
 "nbformat": 4,
 "nbformat_minor": 5
}
